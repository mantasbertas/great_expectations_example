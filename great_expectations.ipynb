{
 "cells": [
  {
   "cell_type": "code",
   "execution_count": 6,
   "id": "6015c21f-f36a-43f9-90c1-cdca4ad67618",
   "metadata": {},
   "outputs": [
    {
     "name": "stdout",
     "output_type": "stream",
     "text": [
      "Collecting openpyxl\n",
      "  Downloading openpyxl-3.1.5-py2.py3-none-any.whl.metadata (2.5 kB)\n",
      "Collecting et-xmlfile (from openpyxl)\n",
      "  Downloading et_xmlfile-2.0.0-py3-none-any.whl.metadata (2.7 kB)\n",
      "Downloading openpyxl-3.1.5-py2.py3-none-any.whl (250 kB)\n",
      "Downloading et_xmlfile-2.0.0-py3-none-any.whl (18 kB)\n",
      "Installing collected packages: et-xmlfile, openpyxl\n",
      "Successfully installed et-xmlfile-2.0.0 openpyxl-3.1.5\n",
      "\n",
      "\u001b[1m[\u001b[0m\u001b[34;49mnotice\u001b[0m\u001b[1;39;49m]\u001b[0m\u001b[39;49m A new release of pip is available: \u001b[0m\u001b[31;49m24.3.1\u001b[0m\u001b[39;49m -> \u001b[0m\u001b[32;49m25.0.1\u001b[0m\n",
      "\u001b[1m[\u001b[0m\u001b[34;49mnotice\u001b[0m\u001b[1;39;49m]\u001b[0m\u001b[39;49m To update, run: \u001b[0m\u001b[32;49mpip install --upgrade pip\u001b[0m\n"
     ]
    }
   ],
   "source": [
    "!pip install openpyxl"
   ]
  },
  {
   "cell_type": "code",
   "execution_count": 7,
   "id": "f93ee1dc-e399-45af-ae06-0d9e30ede67b",
   "metadata": {},
   "outputs": [],
   "source": [
    "import great_expectations as ge\n",
    "import pandas as pd"
   ]
  },
  {
   "cell_type": "code",
   "execution_count": 14,
   "id": "c19e8ba6-3292-416f-aea7-1bbdf4d531a3",
   "metadata": {},
   "outputs": [
    {
     "data": {
      "text/html": [
       "<div>\n",
       "<style scoped>\n",
       "    .dataframe tbody tr th:only-of-type {\n",
       "        vertical-align: middle;\n",
       "    }\n",
       "\n",
       "    .dataframe tbody tr th {\n",
       "        vertical-align: top;\n",
       "    }\n",
       "\n",
       "    .dataframe thead th {\n",
       "        text-align: right;\n",
       "    }\n",
       "</style>\n",
       "<table border=\"1\" class=\"dataframe\">\n",
       "  <thead>\n",
       "    <tr style=\"text-align: right;\">\n",
       "      <th></th>\n",
       "      <th>ProductKey</th>\n",
       "      <th>ProductAlternateKey</th>\n",
       "      <th>ProductSubcategoryKey</th>\n",
       "      <th>WeightUnitMeasureCode</th>\n",
       "      <th>SizeUnitMeasureCode</th>\n",
       "      <th>EnglishProductName</th>\n",
       "      <th>StandardCost</th>\n",
       "      <th>FinishedGoodsFlag</th>\n",
       "      <th>Color</th>\n",
       "      <th>SafetyStockLevel</th>\n",
       "      <th>...</th>\n",
       "      <th>DaysToManufacture</th>\n",
       "      <th>ProductLine</th>\n",
       "      <th>DealerPrice</th>\n",
       "      <th>Class</th>\n",
       "      <th>Style</th>\n",
       "      <th>ModelName</th>\n",
       "      <th>EnglishDescription</th>\n",
       "      <th>StartDate</th>\n",
       "      <th>EndDate</th>\n",
       "      <th>Status</th>\n",
       "    </tr>\n",
       "  </thead>\n",
       "  <tbody>\n",
       "    <tr>\n",
       "      <th>0</th>\n",
       "      <td>1</td>\n",
       "      <td>AR-5381</td>\n",
       "      <td>NaN</td>\n",
       "      <td>NaN</td>\n",
       "      <td>NaN</td>\n",
       "      <td>Adjustable Race</td>\n",
       "      <td>NaN</td>\n",
       "      <td>0</td>\n",
       "      <td>NaN</td>\n",
       "      <td>1000</td>\n",
       "      <td>...</td>\n",
       "      <td>0</td>\n",
       "      <td>NaN</td>\n",
       "      <td>NaN</td>\n",
       "      <td>NaN</td>\n",
       "      <td>NaN</td>\n",
       "      <td>NaN</td>\n",
       "      <td>NaN</td>\n",
       "      <td>2003-07-01</td>\n",
       "      <td>NaT</td>\n",
       "      <td>Current</td>\n",
       "    </tr>\n",
       "    <tr>\n",
       "      <th>1</th>\n",
       "      <td>2</td>\n",
       "      <td>BA-8327</td>\n",
       "      <td>NaN</td>\n",
       "      <td>NaN</td>\n",
       "      <td>NaN</td>\n",
       "      <td>Bearing Ball</td>\n",
       "      <td>NaN</td>\n",
       "      <td>0</td>\n",
       "      <td>NaN</td>\n",
       "      <td>1000</td>\n",
       "      <td>...</td>\n",
       "      <td>0</td>\n",
       "      <td>NaN</td>\n",
       "      <td>NaN</td>\n",
       "      <td>NaN</td>\n",
       "      <td>NaN</td>\n",
       "      <td>NaN</td>\n",
       "      <td>NaN</td>\n",
       "      <td>2003-07-01</td>\n",
       "      <td>NaT</td>\n",
       "      <td>Current</td>\n",
       "    </tr>\n",
       "    <tr>\n",
       "      <th>2</th>\n",
       "      <td>3</td>\n",
       "      <td>BE-2349</td>\n",
       "      <td>NaN</td>\n",
       "      <td>NaN</td>\n",
       "      <td>NaN</td>\n",
       "      <td>BB Ball Bearing</td>\n",
       "      <td>NaN</td>\n",
       "      <td>0</td>\n",
       "      <td>NaN</td>\n",
       "      <td>800</td>\n",
       "      <td>...</td>\n",
       "      <td>1</td>\n",
       "      <td>NaN</td>\n",
       "      <td>NaN</td>\n",
       "      <td>NaN</td>\n",
       "      <td>NaN</td>\n",
       "      <td>NaN</td>\n",
       "      <td>NaN</td>\n",
       "      <td>2003-07-01</td>\n",
       "      <td>NaT</td>\n",
       "      <td>Current</td>\n",
       "    </tr>\n",
       "    <tr>\n",
       "      <th>3</th>\n",
       "      <td>4</td>\n",
       "      <td>BE-2908</td>\n",
       "      <td>NaN</td>\n",
       "      <td>NaN</td>\n",
       "      <td>NaN</td>\n",
       "      <td>Headset Ball Bearings</td>\n",
       "      <td>NaN</td>\n",
       "      <td>0</td>\n",
       "      <td>NaN</td>\n",
       "      <td>800</td>\n",
       "      <td>...</td>\n",
       "      <td>0</td>\n",
       "      <td>NaN</td>\n",
       "      <td>NaN</td>\n",
       "      <td>NaN</td>\n",
       "      <td>NaN</td>\n",
       "      <td>NaN</td>\n",
       "      <td>NaN</td>\n",
       "      <td>2003-07-01</td>\n",
       "      <td>NaT</td>\n",
       "      <td>Current</td>\n",
       "    </tr>\n",
       "    <tr>\n",
       "      <th>4</th>\n",
       "      <td>5</td>\n",
       "      <td>BL-2036</td>\n",
       "      <td>NaN</td>\n",
       "      <td>NaN</td>\n",
       "      <td>NaN</td>\n",
       "      <td>Blade</td>\n",
       "      <td>NaN</td>\n",
       "      <td>0</td>\n",
       "      <td>NaN</td>\n",
       "      <td>800</td>\n",
       "      <td>...</td>\n",
       "      <td>1</td>\n",
       "      <td>NaN</td>\n",
       "      <td>NaN</td>\n",
       "      <td>NaN</td>\n",
       "      <td>NaN</td>\n",
       "      <td>NaN</td>\n",
       "      <td>NaN</td>\n",
       "      <td>2003-07-01</td>\n",
       "      <td>NaT</td>\n",
       "      <td>Current</td>\n",
       "    </tr>\n",
       "  </tbody>\n",
       "</table>\n",
       "<p>5 rows × 25 columns</p>\n",
       "</div>"
      ],
      "text/plain": [
       "   ProductKey ProductAlternateKey  ProductSubcategoryKey  \\\n",
       "0           1             AR-5381                    NaN   \n",
       "1           2             BA-8327                    NaN   \n",
       "2           3             BE-2349                    NaN   \n",
       "3           4             BE-2908                    NaN   \n",
       "4           5             BL-2036                    NaN   \n",
       "\n",
       "  WeightUnitMeasureCode SizeUnitMeasureCode     EnglishProductName  \\\n",
       "0                   NaN                 NaN        Adjustable Race   \n",
       "1                   NaN                 NaN           Bearing Ball   \n",
       "2                   NaN                 NaN        BB Ball Bearing   \n",
       "3                   NaN                 NaN  Headset Ball Bearings   \n",
       "4                   NaN                 NaN                  Blade   \n",
       "\n",
       "   StandardCost  FinishedGoodsFlag Color  SafetyStockLevel  ...  \\\n",
       "0           NaN                  0   NaN              1000  ...   \n",
       "1           NaN                  0   NaN              1000  ...   \n",
       "2           NaN                  0   NaN               800  ...   \n",
       "3           NaN                  0   NaN               800  ...   \n",
       "4           NaN                  0   NaN               800  ...   \n",
       "\n",
       "   DaysToManufacture  ProductLine DealerPrice Class  Style  ModelName  \\\n",
       "0                  0          NaN         NaN   NaN    NaN        NaN   \n",
       "1                  0          NaN         NaN   NaN    NaN        NaN   \n",
       "2                  1          NaN         NaN   NaN    NaN        NaN   \n",
       "3                  0          NaN         NaN   NaN    NaN        NaN   \n",
       "4                  1          NaN         NaN   NaN    NaN        NaN   \n",
       "\n",
       "  EnglishDescription  StartDate EndDate   Status  \n",
       "0                NaN 2003-07-01     NaT  Current  \n",
       "1                NaN 2003-07-01     NaT  Current  \n",
       "2                NaN 2003-07-01     NaT  Current  \n",
       "3                NaN 2003-07-01     NaT  Current  \n",
       "4                NaN 2003-07-01     NaT  Current  \n",
       "\n",
       "[5 rows x 25 columns]"
      ]
     },
     "execution_count": 14,
     "metadata": {},
     "output_type": "execute_result"
    }
   ],
   "source": [
    "url = \"https://github.com/hnawaz007/pythondataanalysis/blob/main/ETL%20Pipeline/Pytest/Session%20one/Product.xlsx?raw=true\"\n",
    "\n",
    "df = pd.read_excel(url)\n",
    "df.head()"
   ]
  },
  {
   "cell_type": "code",
   "execution_count": 15,
   "id": "a16141db-86ea-42c4-af3d-26db60718793",
   "metadata": {},
   "outputs": [
    {
     "name": "stdout",
     "output_type": "stream",
     "text": [
      "<class 'pandas.core.frame.DataFrame'>\n",
      "RangeIndex: 606 entries, 0 to 605\n",
      "Data columns (total 25 columns):\n",
      " #   Column                 Non-Null Count  Dtype         \n",
      "---  ------                 --------------  -----         \n",
      " 0   ProductKey             606 non-null    int64         \n",
      " 1   ProductAlternateKey    606 non-null    object        \n",
      " 2   ProductSubcategoryKey  397 non-null    float64       \n",
      " 3   WeightUnitMeasureCode  282 non-null    object        \n",
      " 4   SizeUnitMeasureCode    253 non-null    object        \n",
      " 5   EnglishProductName     606 non-null    object        \n",
      " 6   StandardCost           395 non-null    float64       \n",
      " 7   FinishedGoodsFlag      606 non-null    int64         \n",
      " 8   Color                  352 non-null    object        \n",
      " 9   SafetyStockLevel       606 non-null    int64         \n",
      " 10  ReorderPoint           606 non-null    int64         \n",
      " 11  ListPrice              395 non-null    float64       \n",
      " 12  Size                   299 non-null    object        \n",
      " 13  SizeRange              299 non-null    object        \n",
      " 14  Weight                 282 non-null    float64       \n",
      " 15  DaysToManufacture      606 non-null    int64         \n",
      " 16  ProductLine            380 non-null    object        \n",
      " 17  DealerPrice            395 non-null    float64       \n",
      " 18  Class                  330 non-null    object        \n",
      " 19  Style                  301 non-null    object        \n",
      " 20  ModelName              397 non-null    object        \n",
      " 21  EnglishDescription     396 non-null    object        \n",
      " 22  StartDate              606 non-null    datetime64[ns]\n",
      " 23  EndDate                200 non-null    datetime64[ns]\n",
      " 24  Status                 406 non-null    object        \n",
      "dtypes: datetime64[ns](2), float64(5), int64(5), object(13)\n",
      "memory usage: 118.5+ KB\n"
     ]
    }
   ],
   "source": [
    "df.info()"
   ]
  },
  {
   "cell_type": "code",
   "execution_count": 10,
   "id": "539a92ca-94d6-4150-be69-947f45a4c20f",
   "metadata": {},
   "outputs": [],
   "source": [
    "ge_df = ge.from_pandas(df)"
   ]
  },
  {
   "cell_type": "code",
   "execution_count": 11,
   "id": "5e375bfe-a502-4c45-89cf-c33bab94b900",
   "metadata": {},
   "outputs": [
    {
     "data": {
      "text/plain": [
       "great_expectations.dataset.pandas_dataset.PandasDataset"
      ]
     },
     "execution_count": 11,
     "metadata": {},
     "output_type": "execute_result"
    }
   ],
   "source": [
    "type(ge_df)"
   ]
  },
  {
   "cell_type": "code",
   "execution_count": 13,
   "id": "0845a37b-11fb-46be-9629-3585abe64359",
   "metadata": {},
   "outputs": [
    {
     "data": {
      "text/plain": [
       "{\n",
       "  \"success\": false,\n",
       "  \"result\": {\n",
       "    \"observed_value\": 606\n",
       "  },\n",
       "  \"meta\": {},\n",
       "  \"exception_info\": {\n",
       "    \"raised_exception\": false,\n",
       "    \"exception_traceback\": null,\n",
       "    \"exception_message\": null\n",
       "  }\n",
       "}"
      ]
     },
     "execution_count": 13,
     "metadata": {},
     "output_type": "execute_result"
    }
   ],
   "source": [
    "# check nr of rows in ds\n",
    "ge_df.expect_table_row_count_to_equal(1000)"
   ]
  },
  {
   "cell_type": "code",
   "execution_count": 16,
   "id": "b4b8ecb3-2426-4591-a6d9-8184e2b2fc98",
   "metadata": {},
   "outputs": [
    {
     "data": {
      "text/plain": [
       "{\n",
       "  \"success\": true,\n",
       "  \"result\": {},\n",
       "  \"meta\": {},\n",
       "  \"exception_info\": {\n",
       "    \"raised_exception\": false,\n",
       "    \"exception_traceback\": null,\n",
       "    \"exception_message\": null\n",
       "  }\n",
       "}"
      ]
     },
     "execution_count": 16,
     "metadata": {},
     "output_type": "execute_result"
    }
   ],
   "source": [
    "ge_df.expect_column_to_exist(\"ProductKey\")"
   ]
  },
  {
   "cell_type": "code",
   "execution_count": 17,
   "id": "1c8481a2-f66c-4922-8f83-686745824a3f",
   "metadata": {},
   "outputs": [
    {
     "data": {
      "text/plain": [
       "{\n",
       "  \"success\": true,\n",
       "  \"result\": {\n",
       "    \"element_count\": 606,\n",
       "    \"missing_count\": 0,\n",
       "    \"missing_percent\": 0.0,\n",
       "    \"unexpected_count\": 0,\n",
       "    \"unexpected_percent\": 0.0,\n",
       "    \"unexpected_percent_total\": 0.0,\n",
       "    \"unexpected_percent_nonmissing\": 0.0,\n",
       "    \"partial_unexpected_list\": []\n",
       "  },\n",
       "  \"meta\": {},\n",
       "  \"exception_info\": {\n",
       "    \"raised_exception\": false,\n",
       "    \"exception_traceback\": null,\n",
       "    \"exception_message\": null\n",
       "  }\n",
       "}"
      ]
     },
     "execution_count": 17,
     "metadata": {},
     "output_type": "execute_result"
    }
   ],
   "source": [
    "ge_df.expect_column_values_to_be_unique(\"ProductKey\")"
   ]
  },
  {
   "cell_type": "code",
   "execution_count": 18,
   "id": "71ef8b8e-716c-452c-b7a6-7ff6154ed5c3",
   "metadata": {},
   "outputs": [
    {
     "data": {
      "text/plain": [
       "{\n",
       "  \"success\": true,\n",
       "  \"result\": {\n",
       "    \"element_count\": 606,\n",
       "    \"unexpected_count\": 0,\n",
       "    \"unexpected_percent\": 0.0,\n",
       "    \"unexpected_percent_total\": 0.0,\n",
       "    \"partial_unexpected_list\": []\n",
       "  },\n",
       "  \"meta\": {},\n",
       "  \"exception_info\": {\n",
       "    \"raised_exception\": false,\n",
       "    \"exception_traceback\": null,\n",
       "    \"exception_message\": null\n",
       "  }\n",
       "}"
      ]
     },
     "execution_count": 18,
     "metadata": {},
     "output_type": "execute_result"
    }
   ],
   "source": [
    "ge_df.expect_column_values_to_not_be_null(\"ProductKey\")"
   ]
  },
  {
   "cell_type": "code",
   "execution_count": 21,
   "id": "1dd51204-f14f-42c6-bce1-1bd0936c7279",
   "metadata": {
    "scrolled": true
   },
   "outputs": [
    {
     "data": {
      "text/plain": [
       "{\n",
       "  \"success\": true,\n",
       "  \"result\": {\n",
       "    \"observed_value\": \"int64\"\n",
       "  },\n",
       "  \"meta\": {},\n",
       "  \"exception_info\": {\n",
       "    \"raised_exception\": false,\n",
       "    \"exception_traceback\": null,\n",
       "    \"exception_message\": null\n",
       "  }\n",
       "}"
      ]
     },
     "execution_count": 21,
     "metadata": {},
     "output_type": "execute_result"
    }
   ],
   "source": [
    "ge_df.expect_column_values_to_be_in_type_list(\"ProductKey\", ['int', 'int64'])"
   ]
  },
  {
   "cell_type": "code",
   "execution_count": 22,
   "id": "cc133f6e-ff74-47ee-a471-eacbfdb48fc2",
   "metadata": {},
   "outputs": [
    {
     "data": {
      "text/plain": [
       "array([nan, 'R ', 'S ', 'M ', 'T '], dtype=object)"
      ]
     },
     "execution_count": 22,
     "metadata": {},
     "output_type": "execute_result"
    }
   ],
   "source": [
    "df.ProductLine.unique()"
   ]
  },
  {
   "cell_type": "code",
   "execution_count": 30,
   "id": "ef34e251-66bb-44a7-b979-89240c5c215f",
   "metadata": {},
   "outputs": [
    {
     "data": {
      "text/plain": [
       "{\n",
       "  \"success\": true,\n",
       "  \"result\": {\n",
       "    \"element_count\": 606,\n",
       "    \"missing_count\": 226,\n",
       "    \"missing_percent\": 37.29372937293729,\n",
       "    \"unexpected_count\": 0,\n",
       "    \"unexpected_percent\": 0.0,\n",
       "    \"unexpected_percent_total\": 0.0,\n",
       "    \"unexpected_percent_nonmissing\": 0.0,\n",
       "    \"partial_unexpected_list\": []\n",
       "  },\n",
       "  \"meta\": {},\n",
       "  \"exception_info\": {\n",
       "    \"raised_exception\": false,\n",
       "    \"exception_traceback\": null,\n",
       "    \"exception_message\": null\n",
       "  }\n",
       "}"
      ]
     },
     "execution_count": 30,
     "metadata": {},
     "output_type": "execute_result"
    }
   ],
   "source": [
    "ge_df.expect_column_values_to_be_in_set(\"ProductLine\", ['R ', 'S ', 'M ', 'T '])"
   ]
  },
  {
   "cell_type": "code",
   "execution_count": 31,
   "id": "5e9d7f42-beae-48f6-8e81-bd944d46e445",
   "metadata": {},
   "outputs": [
    {
     "data": {
      "text/plain": [
       "array([nan, 'Black', 'Silver', 'Red', 'White', 'Blue', 'Multi', 'Yellow',\n",
       "       'Grey', 'Silver/Black'], dtype=object)"
      ]
     },
     "execution_count": 31,
     "metadata": {},
     "output_type": "execute_result"
    }
   ],
   "source": [
    "df.Color.unique()"
   ]
  },
  {
   "cell_type": "code",
   "execution_count": 32,
   "id": "9011ce60-a855-43c3-a12e-097f0657c7e9",
   "metadata": {},
   "outputs": [
    {
     "data": {
      "text/plain": [
       "{\n",
       "  \"success\": false,\n",
       "  \"result\": {\n",
       "    \"element_count\": 606,\n",
       "    \"missing_count\": 254,\n",
       "    \"missing_percent\": 41.914191419141915,\n",
       "    \"unexpected_count\": 7,\n",
       "    \"unexpected_percent\": 1.9886363636363635,\n",
       "    \"unexpected_percent_total\": 1.155115511551155,\n",
       "    \"unexpected_percent_nonmissing\": 1.9886363636363635,\n",
       "    \"partial_unexpected_list\": [\n",
       "      \"Silver/Black\",\n",
       "      \"Silver/Black\",\n",
       "      \"Silver/Black\",\n",
       "      \"Silver/Black\",\n",
       "      \"Silver/Black\",\n",
       "      \"Silver/Black\",\n",
       "      \"Silver/Black\"\n",
       "    ]\n",
       "  },\n",
       "  \"meta\": {},\n",
       "  \"exception_info\": {\n",
       "    \"raised_exception\": false,\n",
       "    \"exception_traceback\": null,\n",
       "    \"exception_message\": null\n",
       "  }\n",
       "}"
      ]
     },
     "execution_count": 32,
     "metadata": {},
     "output_type": "execute_result"
    }
   ],
   "source": [
    "ge_df.expect_column_values_to_be_in_set(\"Color\", ['Black', 'Silver', 'Red', 'White', 'Blue', 'Multi', 'Yellow',\n",
    "       'Grey'])"
   ]
  },
  {
   "cell_type": "code",
   "execution_count": 36,
   "id": "e8139d28-54d3-489d-a364-97ace089b1c3",
   "metadata": {},
   "outputs": [
    {
     "data": {
      "text/plain": [
       "{\n",
       "  \"success\": true,\n",
       "  \"result\": {\n",
       "    \"observed_value\": 1000,\n",
       "    \"element_count\": 606,\n",
       "    \"missing_count\": null,\n",
       "    \"missing_percent\": null\n",
       "  },\n",
       "  \"meta\": {},\n",
       "  \"exception_info\": {\n",
       "    \"raised_exception\": false,\n",
       "    \"exception_traceback\": null,\n",
       "    \"exception_message\": null\n",
       "  }\n",
       "}"
      ]
     },
     "execution_count": 36,
     "metadata": {},
     "output_type": "execute_result"
    }
   ],
   "source": [
    "ge_df.expect_column_max_to_be_between(\"SafetyStockLevel\", 1, 1001)"
   ]
  },
  {
   "cell_type": "code",
   "execution_count": 37,
   "id": "b1ab5e5b-bac2-47f8-b4dd-b7b512a6524f",
   "metadata": {},
   "outputs": [
    {
     "data": {
      "text/plain": [
       "{\n",
       "  \"success\": true,\n",
       "  \"result\": {\n",
       "    \"observed_value\": 4,\n",
       "    \"element_count\": 606,\n",
       "    \"missing_count\": null,\n",
       "    \"missing_percent\": null\n",
       "  },\n",
       "  \"meta\": {},\n",
       "  \"exception_info\": {\n",
       "    \"raised_exception\": false,\n",
       "    \"exception_traceback\": null,\n",
       "    \"exception_message\": null\n",
       "  }\n",
       "}"
      ]
     },
     "execution_count": 37,
     "metadata": {},
     "output_type": "execute_result"
    }
   ],
   "source": [
    "ge_df.expect_column_max_to_be_between(\"DaysToManufacture\", 1, 10)"
   ]
  },
  {
   "cell_type": "code",
   "execution_count": 39,
   "id": "d81d7b1f-9a82-4aed-bb7a-492cb7f121e0",
   "metadata": {},
   "outputs": [
    {
     "data": {
      "text/plain": [
       "{\n",
       "  \"success\": true,\n",
       "  \"result\": {\n",
       "    \"observed_value\": 434.2658288607594,\n",
       "    \"element_count\": 606,\n",
       "    \"missing_count\": 211,\n",
       "    \"missing_percent\": 34.81848184818482\n",
       "  },\n",
       "  \"meta\": {},\n",
       "  \"exception_info\": {\n",
       "    \"raised_exception\": false,\n",
       "    \"exception_traceback\": null,\n",
       "    \"exception_message\": null\n",
       "  }\n",
       "}"
      ]
     },
     "execution_count": 39,
     "metadata": {},
     "output_type": "execute_result"
    }
   ],
   "source": [
    "ge_df.expect_column_mean_to_be_between(\"StandardCost\", 100, 500)"
   ]
  },
  {
   "cell_type": "code",
   "execution_count": 45,
   "id": "6aafd9e7-d977-41ed-8b7d-6bd2b2c63542",
   "metadata": {},
   "outputs": [
    {
     "data": {
      "text/plain": [
       "{\n",
       "  \"success\": true,\n",
       "  \"result\": {\n",
       "    \"element_count\": 606,\n",
       "    \"unexpected_count\": 254,\n",
       "    \"unexpected_percent\": 41.914191419141915,\n",
       "    \"unexpected_percent_total\": 41.914191419141915,\n",
       "    \"partial_unexpected_list\": []\n",
       "  },\n",
       "  \"meta\": {},\n",
       "  \"exception_info\": {\n",
       "    \"raised_exception\": false,\n",
       "    \"exception_traceback\": null,\n",
       "    \"exception_message\": null\n",
       "  }\n",
       "}"
      ]
     },
     "execution_count": 45,
     "metadata": {},
     "output_type": "execute_result"
    }
   ],
   "source": [
    "ge_df.expect_column_values_to_not_be_null(\"Color\", mostly=0.5)"
   ]
  },
  {
   "cell_type": "code",
   "execution_count": 47,
   "id": "1307ee87-d350-4d42-b837-b578b672996c",
   "metadata": {},
   "outputs": [
    {
     "data": {
      "text/plain": [
       "{\n",
       "  \"expectation_suite_name\": \"default\",\n",
       "  \"ge_cloud_id\": null,\n",
       "  \"expectations\": [\n",
       "    {\n",
       "      \"expectation_type\": \"expect_column_to_exist\",\n",
       "      \"kwargs\": {\n",
       "        \"column\": \"ProductKey\"\n",
       "      },\n",
       "      \"meta\": {}\n",
       "    },\n",
       "    {\n",
       "      \"expectation_type\": \"expect_column_values_to_be_unique\",\n",
       "      \"kwargs\": {\n",
       "        \"column\": \"ProductKey\"\n",
       "      },\n",
       "      \"meta\": {}\n",
       "    },\n",
       "    {\n",
       "      \"expectation_type\": \"expect_column_values_to_not_be_null\",\n",
       "      \"kwargs\": {\n",
       "        \"column\": \"ProductKey\"\n",
       "      },\n",
       "      \"meta\": {}\n",
       "    },\n",
       "    {\n",
       "      \"expectation_type\": \"expect_column_values_to_be_in_type_list\",\n",
       "      \"kwargs\": {\n",
       "        \"column\": \"ProductKey\",\n",
       "        \"type_list\": [\n",
       "          \"int\",\n",
       "          \"int64\"\n",
       "        ]\n",
       "      },\n",
       "      \"meta\": {}\n",
       "    },\n",
       "    {\n",
       "      \"expectation_type\": \"expect_column_values_to_be_in_set\",\n",
       "      \"kwargs\": {\n",
       "        \"column\": \"ProductLine\",\n",
       "        \"value_set\": [\n",
       "          \"R \",\n",
       "          \"S \",\n",
       "          \"M \",\n",
       "          \"T \"\n",
       "        ]\n",
       "      },\n",
       "      \"meta\": {}\n",
       "    },\n",
       "    {\n",
       "      \"expectation_type\": \"expect_column_max_to_be_between\",\n",
       "      \"kwargs\": {\n",
       "        \"column\": \"SafetyStockLevel\",\n",
       "        \"min_value\": 1,\n",
       "        \"max_value\": 1001\n",
       "      },\n",
       "      \"meta\": {}\n",
       "    },\n",
       "    {\n",
       "      \"expectation_type\": \"expect_column_max_to_be_between\",\n",
       "      \"kwargs\": {\n",
       "        \"column\": \"DaysToManufacture\",\n",
       "        \"min_value\": 1,\n",
       "        \"max_value\": 10\n",
       "      },\n",
       "      \"meta\": {}\n",
       "    },\n",
       "    {\n",
       "      \"expectation_type\": \"expect_column_mean_to_be_between\",\n",
       "      \"kwargs\": {\n",
       "        \"column\": \"StandardCost\",\n",
       "        \"min_value\": 100,\n",
       "        \"max_value\": 500\n",
       "      },\n",
       "      \"meta\": {}\n",
       "    },\n",
       "    {\n",
       "      \"expectation_type\": \"expect_column_values_to_not_be_null\",\n",
       "      \"kwargs\": {\n",
       "        \"column\": \"Color\",\n",
       "        \"mostly\": 0.5\n",
       "      },\n",
       "      \"meta\": {}\n",
       "    }\n",
       "  ],\n",
       "  \"data_asset_type\": \"Dataset\",\n",
       "  \"meta\": {\n",
       "    \"great_expectations_version\": \"0.18.22\"\n",
       "  }\n",
       "}"
      ]
     },
     "execution_count": 47,
     "metadata": {},
     "output_type": "execute_result"
    }
   ],
   "source": [
    "ge_df.get_expectation_suite()"
   ]
  },
  {
   "cell_type": "code",
   "execution_count": 48,
   "id": "d59365f5-0758-4a8b-8042-33ba48f5d762",
   "metadata": {},
   "outputs": [],
   "source": [
    "config = ge_df.get_expectation_suite()\n",
    "ge_df.save_expectation_suite(\"product.data.expectations.json\")"
   ]
  },
  {
   "cell_type": "code",
   "execution_count": 49,
   "id": "fb234993-4c8c-4613-adad-38671d331dd1",
   "metadata": {},
   "outputs": [],
   "source": [
    "df2 = ge.read_excel(url)"
   ]
  },
  {
   "cell_type": "code",
   "execution_count": 50,
   "id": "56f6432b-99ed-479c-9798-1e4ec5113b56",
   "metadata": {},
   "outputs": [
    {
     "data": {
      "text/plain": [
       "{\n",
       "  \"success\": true,\n",
       "  \"results\": [\n",
       "    {\n",
       "      \"success\": true,\n",
       "      \"expectation_config\": {\n",
       "        \"expectation_type\": \"expect_column_to_exist\",\n",
       "        \"kwargs\": {\n",
       "          \"column\": \"ProductKey\"\n",
       "        },\n",
       "        \"meta\": {}\n",
       "      },\n",
       "      \"result\": {},\n",
       "      \"meta\": {},\n",
       "      \"exception_info\": {\n",
       "        \"raised_exception\": false,\n",
       "        \"exception_message\": null,\n",
       "        \"exception_traceback\": null\n",
       "      }\n",
       "    },\n",
       "    {\n",
       "      \"success\": true,\n",
       "      \"expectation_config\": {\n",
       "        \"expectation_type\": \"expect_column_values_to_be_unique\",\n",
       "        \"kwargs\": {\n",
       "          \"column\": \"ProductKey\"\n",
       "        },\n",
       "        \"meta\": {}\n",
       "      },\n",
       "      \"result\": {\n",
       "        \"element_count\": 606,\n",
       "        \"missing_count\": 0,\n",
       "        \"missing_percent\": 0.0,\n",
       "        \"unexpected_count\": 0,\n",
       "        \"unexpected_percent\": 0.0,\n",
       "        \"unexpected_percent_total\": 0.0,\n",
       "        \"unexpected_percent_nonmissing\": 0.0,\n",
       "        \"partial_unexpected_list\": []\n",
       "      },\n",
       "      \"meta\": {},\n",
       "      \"exception_info\": {\n",
       "        \"raised_exception\": false,\n",
       "        \"exception_message\": null,\n",
       "        \"exception_traceback\": null\n",
       "      }\n",
       "    },\n",
       "    {\n",
       "      \"success\": true,\n",
       "      \"expectation_config\": {\n",
       "        \"expectation_type\": \"expect_column_values_to_not_be_null\",\n",
       "        \"kwargs\": {\n",
       "          \"column\": \"ProductKey\"\n",
       "        },\n",
       "        \"meta\": {}\n",
       "      },\n",
       "      \"result\": {\n",
       "        \"element_count\": 606,\n",
       "        \"unexpected_count\": 0,\n",
       "        \"unexpected_percent\": 0.0,\n",
       "        \"unexpected_percent_total\": 0.0,\n",
       "        \"partial_unexpected_list\": []\n",
       "      },\n",
       "      \"meta\": {},\n",
       "      \"exception_info\": {\n",
       "        \"raised_exception\": false,\n",
       "        \"exception_message\": null,\n",
       "        \"exception_traceback\": null\n",
       "      }\n",
       "    },\n",
       "    {\n",
       "      \"success\": true,\n",
       "      \"expectation_config\": {\n",
       "        \"expectation_type\": \"expect_column_values_to_be_in_type_list\",\n",
       "        \"kwargs\": {\n",
       "          \"column\": \"ProductKey\",\n",
       "          \"type_list\": [\n",
       "            \"int\",\n",
       "            \"int64\"\n",
       "          ]\n",
       "        },\n",
       "        \"meta\": {}\n",
       "      },\n",
       "      \"result\": {\n",
       "        \"observed_value\": \"int64\"\n",
       "      },\n",
       "      \"meta\": {},\n",
       "      \"exception_info\": {\n",
       "        \"raised_exception\": false,\n",
       "        \"exception_message\": null,\n",
       "        \"exception_traceback\": null\n",
       "      }\n",
       "    },\n",
       "    {\n",
       "      \"success\": true,\n",
       "      \"expectation_config\": {\n",
       "        \"expectation_type\": \"expect_column_values_to_be_in_set\",\n",
       "        \"kwargs\": {\n",
       "          \"column\": \"ProductLine\",\n",
       "          \"value_set\": [\n",
       "            \"R \",\n",
       "            \"S \",\n",
       "            \"M \",\n",
       "            \"T \"\n",
       "          ]\n",
       "        },\n",
       "        \"meta\": {}\n",
       "      },\n",
       "      \"result\": {\n",
       "        \"element_count\": 606,\n",
       "        \"missing_count\": 226,\n",
       "        \"missing_percent\": 37.29372937293729,\n",
       "        \"unexpected_count\": 0,\n",
       "        \"unexpected_percent\": 0.0,\n",
       "        \"unexpected_percent_total\": 0.0,\n",
       "        \"unexpected_percent_nonmissing\": 0.0,\n",
       "        \"partial_unexpected_list\": []\n",
       "      },\n",
       "      \"meta\": {},\n",
       "      \"exception_info\": {\n",
       "        \"raised_exception\": false,\n",
       "        \"exception_message\": null,\n",
       "        \"exception_traceback\": null\n",
       "      }\n",
       "    },\n",
       "    {\n",
       "      \"success\": true,\n",
       "      \"expectation_config\": {\n",
       "        \"expectation_type\": \"expect_column_max_to_be_between\",\n",
       "        \"kwargs\": {\n",
       "          \"column\": \"SafetyStockLevel\",\n",
       "          \"min_value\": 1,\n",
       "          \"max_value\": 1001\n",
       "        },\n",
       "        \"meta\": {}\n",
       "      },\n",
       "      \"result\": {\n",
       "        \"observed_value\": 1000,\n",
       "        \"element_count\": 606,\n",
       "        \"missing_count\": null,\n",
       "        \"missing_percent\": null\n",
       "      },\n",
       "      \"meta\": {},\n",
       "      \"exception_info\": {\n",
       "        \"raised_exception\": false,\n",
       "        \"exception_message\": null,\n",
       "        \"exception_traceback\": null\n",
       "      }\n",
       "    },\n",
       "    {\n",
       "      \"success\": true,\n",
       "      \"expectation_config\": {\n",
       "        \"expectation_type\": \"expect_column_max_to_be_between\",\n",
       "        \"kwargs\": {\n",
       "          \"column\": \"DaysToManufacture\",\n",
       "          \"min_value\": 1,\n",
       "          \"max_value\": 10\n",
       "        },\n",
       "        \"meta\": {}\n",
       "      },\n",
       "      \"result\": {\n",
       "        \"observed_value\": 4,\n",
       "        \"element_count\": 606,\n",
       "        \"missing_count\": null,\n",
       "        \"missing_percent\": null\n",
       "      },\n",
       "      \"meta\": {},\n",
       "      \"exception_info\": {\n",
       "        \"raised_exception\": false,\n",
       "        \"exception_message\": null,\n",
       "        \"exception_traceback\": null\n",
       "      }\n",
       "    },\n",
       "    {\n",
       "      \"success\": true,\n",
       "      \"expectation_config\": {\n",
       "        \"expectation_type\": \"expect_column_mean_to_be_between\",\n",
       "        \"kwargs\": {\n",
       "          \"column\": \"StandardCost\",\n",
       "          \"min_value\": 100,\n",
       "          \"max_value\": 500\n",
       "        },\n",
       "        \"meta\": {}\n",
       "      },\n",
       "      \"result\": {\n",
       "        \"observed_value\": 434.2658288607594,\n",
       "        \"element_count\": 606,\n",
       "        \"missing_count\": 211,\n",
       "        \"missing_percent\": 34.81848184818482\n",
       "      },\n",
       "      \"meta\": {},\n",
       "      \"exception_info\": {\n",
       "        \"raised_exception\": false,\n",
       "        \"exception_message\": null,\n",
       "        \"exception_traceback\": null\n",
       "      }\n",
       "    },\n",
       "    {\n",
       "      \"success\": true,\n",
       "      \"expectation_config\": {\n",
       "        \"expectation_type\": \"expect_column_values_to_not_be_null\",\n",
       "        \"kwargs\": {\n",
       "          \"column\": \"Color\",\n",
       "          \"mostly\": 0.5\n",
       "        },\n",
       "        \"meta\": {}\n",
       "      },\n",
       "      \"result\": {\n",
       "        \"element_count\": 606,\n",
       "        \"unexpected_count\": 254,\n",
       "        \"unexpected_percent\": 41.914191419141915,\n",
       "        \"unexpected_percent_total\": 41.914191419141915,\n",
       "        \"partial_unexpected_list\": []\n",
       "      },\n",
       "      \"meta\": {},\n",
       "      \"exception_info\": {\n",
       "        \"raised_exception\": false,\n",
       "        \"exception_message\": null,\n",
       "        \"exception_traceback\": null\n",
       "      }\n",
       "    }\n",
       "  ],\n",
       "  \"evaluation_parameters\": {},\n",
       "  \"statistics\": {\n",
       "    \"evaluated_expectations\": 9,\n",
       "    \"successful_expectations\": 9,\n",
       "    \"unsuccessful_expectations\": 0,\n",
       "    \"success_percent\": 100.0\n",
       "  },\n",
       "  \"meta\": {\n",
       "    \"great_expectations_version\": \"0.18.22\",\n",
       "    \"expectation_suite_name\": \"default\",\n",
       "    \"run_id\": {\n",
       "      \"run_name\": null,\n",
       "      \"run_time\": \"2025-04-07T12:51:44.360680+03:00\"\n",
       "    },\n",
       "    \"batch_kwargs\": {\n",
       "      \"ge_batch_id\": \"e059e9e6-1395-11f0-9681-ae7ec7e79c13\"\n",
       "    },\n",
       "    \"batch_markers\": {},\n",
       "    \"batch_parameters\": {},\n",
       "    \"validation_time\": \"20250407T095144.360436Z\",\n",
       "    \"expectation_suite_meta\": {\n",
       "      \"great_expectations_version\": \"0.18.22\"\n",
       "    }\n",
       "  }\n",
       "}"
      ]
     },
     "execution_count": 50,
     "metadata": {},
     "output_type": "execute_result"
    }
   ],
   "source": [
    "df2.validate(expectation_suite=config)"
   ]
  },
  {
   "cell_type": "code",
   "execution_count": null,
   "id": "ae70476d-6695-4414-8a76-83f824dcd9cf",
   "metadata": {},
   "outputs": [],
   "source": []
  }
 ],
 "metadata": {
  "kernelspec": {
   "display_name": "Python 3 (ipykernel)",
   "language": "python",
   "name": "python3"
  },
  "language_info": {
   "codemirror_mode": {
    "name": "ipython",
    "version": 3
   },
   "file_extension": ".py",
   "mimetype": "text/x-python",
   "name": "python",
   "nbconvert_exporter": "python",
   "pygments_lexer": "ipython3",
   "version": "3.13.1"
  }
 },
 "nbformat": 4,
 "nbformat_minor": 5
}
